{
 "cells": [
  {
   "cell_type": "code",
   "execution_count": 1,
   "metadata": {},
   "outputs": [
    {
     "name": "stdout",
     "output_type": "stream",
     "text": [
      "..\\Resources\\election_data.csv\n",
      "C:\\Users\\shefalis\\Desktop\\Python_Challenge\\PyPoll\\Resources\\election_data.csv\n"
     ]
    }
   ],
   "source": [
    "#import Dependencies\n",
    "\n",
    "import os\n",
    "import csv\n",
    "\n",
    "#Set path for the file\n",
    "PyPollCSV = os.path.join('..', 'Resources', 'election_data.csv')\n",
    "print(PyPollCSV)\n",
    "\n",
    "\n",
    "#To check the absolute path\n",
    "myabspath = os.path.abspath(PyPollCSV)\n",
    "print(myabspath)"
   ]
  },
  {
   "cell_type": "code",
   "execution_count": null,
   "metadata": {},
   "outputs": [],
   "source": []
  }
 ],
 "metadata": {
  "kernelspec": {
   "display_name": "Python 3",
   "language": "python",
   "name": "python3"
  },
  "language_info": {
   "codemirror_mode": {
    "name": "ipython",
    "version": 3
   },
   "file_extension": ".py",
   "mimetype": "text/x-python",
   "name": "python",
   "nbconvert_exporter": "python",
   "pygments_lexer": "ipython3",
   "version": "3.6.5"
  }
 },
 "nbformat": 4,
 "nbformat_minor": 2
}
