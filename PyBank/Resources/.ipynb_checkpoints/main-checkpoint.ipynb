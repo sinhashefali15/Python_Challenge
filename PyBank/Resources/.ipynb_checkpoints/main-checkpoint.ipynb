{
 "cells": [
  {
   "cell_type": "code",
   "execution_count": 1,
   "metadata": {},
   "outputs": [
    {
     "name": "stdout",
     "output_type": "stream",
     "text": [
      "budget_data.csv\n",
      "C:\\Users\\shefalis\\Desktop\\Python_Challenge\\PyBank\\Resources\\budget_data.csv\n"
     ]
    }
   ],
   "source": [
    "#import Dependencies\n",
    "\n",
    "import os\n",
    "import csv\n",
    "\n",
    "#Set path for the file\n",
    "PyBankCSV = os.path.join('budget_data.csv')\n",
    "print(PyBankCSV)\n",
    "\n",
    "\n",
    "#To check the absolute path\n",
    "myabspath = os.path.abspath(PyBankCSV)\n",
    "print(myabspath)"
   ]
  },
  {
   "cell_type": "code",
   "execution_count": 12,
   "metadata": {},
   "outputs": [
    {
     "name": "stdout",
     "output_type": "stream",
     "text": [
      "Financial Analysis\n",
      "-------------------------------------\n",
      "Total Months: 86\n",
      "Total: 38382578\n",
      "Greatest Increase in Profits: ('Feb-2012', 1170593)\n",
      "Greatest Decrease in Profits: ('Sep-2013', -1196225)\n"
     ]
    }
   ],
   "source": [
    "#Defining two lists to append the months and profit\n",
    "\n",
    "months = []\n",
    "profit = []\n",
    "\n",
    "#Open and Read the CSV file\n",
    "\n",
    "with open(PyBankCSV, 'r') as csvfile:\n",
    "    csvreader = csv.reader(csvfile)\n",
    "    \n",
    "    #Header row\n",
    "    header = next(csvfile)\n",
    "\n",
    "    #loop through the file and add data to the above lists\n",
    "    for row in csvreader:\n",
    "        months.append(row[0])\n",
    "        profit.append(int(row[1]))\n",
    "        \n",
    "        \n",
    "#Using the zip function to combine the month and profit together        \n",
    "paired_data = list(zip(months, profit))\n",
    "\n",
    "\n",
    "#Total Months and Profit\n",
    "TotalMonths = len(months)\n",
    "TotalProfit = sum(profit)\n",
    "\n",
    "\n",
    "# defining a function so that it can be used with the paired data to get the month and profit together\n",
    "def helper(item):\n",
    "    # print(item)\n",
    "    return item[1]\n",
    "\n",
    "print(\"Financial Analysis\")\n",
    "print(\"-------------------------------------\")\n",
    "print(\"Total Months: \" + str(TotalMonths))\n",
    "print(\"Total: \" + str(TotalProfit))\n",
    "print(\"Greatest Increase in Profits: \" + str(max(paired_data,key=helper)))\n",
    "print(\"Greatest Decrease in Profits: \" + str(min(paired_data,key=helper)))\n"
   ]
  },
  {
   "cell_type": "code",
   "execution_count": null,
   "metadata": {},
   "outputs": [],
   "source": []
  }
 ],
 "metadata": {
  "kernelspec": {
   "display_name": "Python 3",
   "language": "python",
   "name": "python3"
  },
  "language_info": {
   "codemirror_mode": {
    "name": "ipython",
    "version": 3
   },
   "file_extension": ".py",
   "mimetype": "text/x-python",
   "name": "python",
   "nbconvert_exporter": "python",
   "pygments_lexer": "ipython3",
   "version": "3.6.5"
  }
 },
 "nbformat": 4,
 "nbformat_minor": 2
}
